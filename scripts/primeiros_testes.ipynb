{
 "cells": [
  {
   "cell_type": "markdown",
   "id": "f81a58e3",
   "metadata": {},
   "source": [
    "Primeiros testes com AI Gemini"
   ]
  },
  {
   "cell_type": "code",
   "execution_count": 1,
   "id": "63e3d8dd",
   "metadata": {},
   "outputs": [],
   "source": [
    "import os\n",
    "from dotenv import load_dotenv\n",
    "from google import genai\n"
   ]
  },
  {
   "cell_type": "code",
   "execution_count": 2,
   "id": "e57afbe4",
   "metadata": {},
   "outputs": [],
   "source": [
    "env_path = '/home/joaovfalves/Documentos/python_ai_aplicada/scripts/.env'\n",
    "\n",
    "load_dotenv(env_path)\n",
    "\n",
    "os.environ[\"GOOGLE_API_KEY\"] = os.getenv('API_TOKEN')\n"
   ]
  },
  {
   "cell_type": "code",
   "execution_count": 3,
   "id": "dbc5c420",
   "metadata": {},
   "outputs": [
    {
     "name": "stdout",
     "output_type": "stream",
     "text": [
      "AI learns patterns from data to make predictions or decisions.\n"
     ]
    }
   ],
   "source": [
    "client = genai.Client()\n",
    "\n",
    "response = client.models.generate_content(\n",
    "    model=\"gemini-2.5-flash\", contents=\"Explain how AI works in a few words\"\n",
    ")\n",
    "\n",
    "print(response.text)"
   ]
  },
  {
   "cell_type": "code",
   "execution_count": null,
   "id": "a241d2ca",
   "metadata": {},
   "outputs": [],
   "source": []
  }
 ],
 "metadata": {
  "kernelspec": {
   "display_name": ".venv",
   "language": "python",
   "name": "python3"
  },
  "language_info": {
   "codemirror_mode": {
    "name": "ipython",
    "version": 3
   },
   "file_extension": ".py",
   "mimetype": "text/x-python",
   "name": "python",
   "nbconvert_exporter": "python",
   "pygments_lexer": "ipython3",
   "version": "3.10.12"
  }
 },
 "nbformat": 4,
 "nbformat_minor": 5
}
